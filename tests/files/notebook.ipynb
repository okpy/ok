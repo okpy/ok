{
    "cells": [{
            "cell_type": "code",
            "execution_count": 1,
            "metadata": {
                "collapsed": false
            },
            "outputs": [{
                "ename": "ImportError",
                "evalue": "No module named 'hi'",
                "output_type": "error",
                "traceback": [
                    "\u001b[0;31m---------------------------------------------------------------------------\u001b[0m",
                    "\u001b[0;31mImportError\u001b[0m                               Traceback (most recent call last)",
                    "\u001b[0;32m<ipython-input-1-605378831bf4>\u001b[0m in \u001b[0;36m<module>\u001b[0;34m()\u001b[0m\n\u001b[0;32m----> 1\u001b[0;31m \u001b[0;32mimport\u001b[0m \u001b[0mhi\u001b[0m\u001b[0;34m\u001b[0m\u001b[0m\n\u001b[0m",
                    "\u001b[0;31mImportError\u001b[0m: No module named 'hi'"
                ]
            }],
            "source": [
                "import hi"
            ]
        },
        {
            "cell_type": "code",
            "execution_count": 2,
            "metadata": {
                "collapsed": false
            },
            "outputs": [{
                "name": "stdout",
                "output_type": "stream",
                "text": [
                    "OK!!!!\n"
                ]
            }],
            "source": [
                "print(\"OK!!!!\")"
            ]
        },
        {
            "cell_type": "markdown",
            "metadata": {},
            "source": [
                "# What \n",
                "### WHAT \n",
                "\n",
                "`ok plz` \n",
                "\n",
                "```python\n",
                "foo = baz <script>alert('xss one')</script>\n",
                "```"
            ]
        },
        {
            "cell_type": "markdown",
            "metadata": {},
            "source": [
                "$$x^2 + x_y+ 5555^2$$\n",
                "$$f(a,b,c) = (a^2+b^2+c^2)^3$$\n",
                "$$f(x) = \\sqrt{1+x} \\quad (x \\ge  -1) $$\n"
            ]
        },
        {
            "cell_type": "markdown",
            "metadata": {},
            "source": [
                "<img src=\"https://placekitten.com/g/400/400\"> <br> <script>alert('uhhh xsss')</script> "
            ]
        },
        {
            "cell_type": "markdown",
            "metadata": {},
            "source": [
                "<script>alert('pure xss')</script> "
            ]
        },
        {
            "cell_type": "markdown",
            "metadata": {},
            "source": [
                "<p id=\"nb-grade\">Element with ID nb-grade</p>"
            ]
        },
        {
            "cell_type": "markdown",
            "metadata": {},
            "source": [
                "~~Markdown Image~~\n",
                "\n",
                "![md-image](https://placekitten.com/g/220/120)\n",
                "\n",
                "| Tables        | Are           | Cool  |\n",
                "| ------------- |:-------------:| -----:|\n",
                "| col 3 is      | right-aligned | 1600 |\n",
                "| col 2 is      | centered      |   12 |\n",
                "| zebra stripes | are neat      |    1 |\n",
                "\n",
                "> **Markdown** has blockquotes\n"
            ]
        },
        {
            "cell_type": "code",
            "execution_count": 3,
            "metadata": {
                "collapsed": false
            },
            "outputs": [{
                "name": "stdout",
                "output_type": "stream",
                "text": [
                    "OK\n",
                    "OK\n",
                    "OK\n",
                    "OK\n",
                    "OK\n"
                ]
            }],
            "source": [
                "for _ in range(5):\n",
                "    print(\"OK\")"
            ]
        },
        {
            "cell_type": "code",
            "execution_count": 3,
            "metadata": {
                "collapsed": false
            },
            "outputs": [{
                "data": {
                    "text/html": [
                        "<table border=\"1\" class=\"dataframe\">\n",
                        "    <thead>\n",
                        "        <tr>\n",
                        "            <th>Date</th> <th>NEI</th> <th>NEIA</th>\n",
                        "        </tr>\n",
                        "    </thead>\n",
                        "    <tbody>\n",
                        "        <tr>\n",
                        "            <td>1994-01-01</td> <td>1</td> <td>1.127  </td>\n",
                        "        </tr>\n",
                        "    </tbody>\n",
                        "        <tr>\n",
                        "            <td>1994-01-02</td> <td><script>alert('xss')</script> </td> <td>10.283 </td>\n",
                        "        </tr>\n",
                        "</table>\n",
                        "<p>... (80 rows omitted)</p>"
                    ],
                    "text/plain": [
                        "Date       | NEI     | NEIA\n",
                        "1994-01-01 | 1.25 | 1.127\n",
                        "1934-04-01 | 1.6249  | 10.283\n",
                        "... (80 rows omitted)"
                    ]
                },
                "execution_count": 3,
                "metadata": {},
                "output_type": "execute_result"
            }],
            "source": [
                "test = Table.read_table(\"test.csv\")\n",
                "test"
            ]
        },
        {
            "cell_type": "markdown",
            "metadata": {},
            "source": [
                "<a href=\"http://www.youtube.com/watch?feature=player_embedded&v=smHuBHxJdK8\"",
                "target=\"_blank\"><img src=\"https://img.youtube.com/vi/smHuBHxJdK8/0.jpg\" \n",
                "alt=\"IMAGE ALT TEXT HERE\" width=\"240\" height=\"180\" border=\"10\" /></a>\n"
            ]
        },
        {
            "cell_type": "code",
            "execution_count": null,
            "metadata": {
                "collapsed": true
            },
            "outputs": [],
            "source": []
        }
    ],
    "metadata": {
        "kernelspec": {
            "display_name": "Python 3",
            "language": "python",
            "name": "python3"
        },
        "language_info": {
            "codemirror_mode": {
                "name": "ipython",
                "version": 3
            },
            "file_extension": ".py",
            "mimetype": "text/x-python",
            "name": "python",
            "nbconvert_exporter": "python",
            "pygments_lexer": "ipython3",
            "version": "3.5.2"
        }
    },
    "nbformat": 4,
    "nbformat_minor": 0
}